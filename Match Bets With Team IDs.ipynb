{
 "cells": [
  {
   "cell_type": "markdown",
   "id": "2fa0d62e-fe0c-41d5-868e-dc6fec1191c4",
   "metadata": {},
   "source": [
    "# Match Bets With Team IDs\n",
    "\n",
    "### This dataframe is pretty similar to the one with Match & Over_Under bets, but it only contains bets for predicted winner of the game. It includes almost every game that took place on NBA floor since 10th of December (the previous one doesn't, because I've started the over/under table a little bit later, and also, for some of the games that kind of bet was unavailable). The other case is the addition of team ids tables - one's for the host, the other for the visitor. This df will be used to conduct some analysis around correlation between hosting and visiting the game in relation to successfulness of the bet."
   ]
  },
  {
   "cell_type": "code",
   "execution_count": 1,
   "id": "59a4bed5-b84d-43bd-9e50-870210993914",
   "metadata": {
    "tags": []
   },
   "outputs": [],
   "source": [
    "import pandas as pd\n",
    "import matplotlib.pyplot as plt\n",
    "import openpyxl as op"
   ]
  },
  {
   "cell_type": "code",
   "execution_count": 2,
   "id": "2ae0ea96-6925-4fed-8fa1-1c9b8aa8cc89",
   "metadata": {
    "tags": []
   },
   "outputs": [],
   "source": [
    "all_bets_df = pd.read_excel('datasets/allmatchbets.xlsx', sheet_name='All Bets')"
   ]
  },
  {
   "cell_type": "code",
   "execution_count": 3,
   "id": "daa22b9d-6d72-43c0-afae-9f5d5458c104",
   "metadata": {
    "tags": []
   },
   "outputs": [
    {
     "data": {
      "text/html": [
       "<div>\n",
       "<style scoped>\n",
       "    .dataframe tbody tr th:only-of-type {\n",
       "        vertical-align: middle;\n",
       "    }\n",
       "\n",
       "    .dataframe tbody tr th {\n",
       "        vertical-align: top;\n",
       "    }\n",
       "\n",
       "    .dataframe thead th {\n",
       "        text-align: right;\n",
       "    }\n",
       "</style>\n",
       "<table border=\"1\" class=\"dataframe\">\n",
       "  <thead>\n",
       "    <tr style=\"text-align: right;\">\n",
       "      <th></th>\n",
       "      <th>MATCH_ID</th>\n",
       "      <th>MATCH_DATE</th>\n",
       "      <th>MATCH</th>\n",
       "      <th>PREDICTED_WINNER</th>\n",
       "      <th>VALUE</th>\n",
       "      <th>GOT_IT</th>\n",
       "      <th>HOMETEAM_ID</th>\n",
       "      <th>AWAYTEAM_ID</th>\n",
       "    </tr>\n",
       "  </thead>\n",
       "  <tbody>\n",
       "    <tr>\n",
       "      <th>0</th>\n",
       "      <td>1</td>\n",
       "      <td>2022-12-10</td>\n",
       "      <td>MIAMI HEAT - SAN ANTONIO SPURS</td>\n",
       "      <td>MIAMI HEAT</td>\n",
       "      <td>1.11</td>\n",
       "      <td>NO</td>\n",
       "      <td>16</td>\n",
       "      <td>27</td>\n",
       "    </tr>\n",
       "    <tr>\n",
       "      <th>1</th>\n",
       "      <td>2</td>\n",
       "      <td>2022-12-10</td>\n",
       "      <td>WASHINGTON WIZARDS - LOS ANGELES CLIPPERS</td>\n",
       "      <td>LOS ANGELES CLIPPERS</td>\n",
       "      <td>1.53</td>\n",
       "      <td>YES</td>\n",
       "      <td>30</td>\n",
       "      <td>14</td>\n",
       "    </tr>\n",
       "    <tr>\n",
       "      <th>2</th>\n",
       "      <td>3</td>\n",
       "      <td>2022-12-10</td>\n",
       "      <td>INDIANA PACERS - BROOKLYN NETS</td>\n",
       "      <td>INDIANA PACERS</td>\n",
       "      <td>1.32</td>\n",
       "      <td>NO</td>\n",
       "      <td>12</td>\n",
       "      <td>3</td>\n",
       "    </tr>\n",
       "    <tr>\n",
       "      <th>3</th>\n",
       "      <td>4</td>\n",
       "      <td>2022-12-10</td>\n",
       "      <td>CLEVELAND CAVALIERS - OKLAHOMA CITY THUNDER</td>\n",
       "      <td>CLEVELAND CAVALIERS</td>\n",
       "      <td>1.36</td>\n",
       "      <td>YES</td>\n",
       "      <td>6</td>\n",
       "      <td>21</td>\n",
       "    </tr>\n",
       "    <tr>\n",
       "      <th>4</th>\n",
       "      <td>5</td>\n",
       "      <td>2022-12-10</td>\n",
       "      <td>CHICAGO BULLS - DALLAS MAVERICKS</td>\n",
       "      <td>DALLAS MAVERICKS</td>\n",
       "      <td>2.00</td>\n",
       "      <td>NO</td>\n",
       "      <td>5</td>\n",
       "      <td>7</td>\n",
       "    </tr>\n",
       "  </tbody>\n",
       "</table>\n",
       "</div>"
      ],
      "text/plain": [
       "   MATCH_ID MATCH_DATE                                        MATCH  \\\n",
       "0         1 2022-12-10               MIAMI HEAT - SAN ANTONIO SPURS   \n",
       "1         2 2022-12-10    WASHINGTON WIZARDS - LOS ANGELES CLIPPERS   \n",
       "2         3 2022-12-10               INDIANA PACERS - BROOKLYN NETS   \n",
       "3         4 2022-12-10  CLEVELAND CAVALIERS - OKLAHOMA CITY THUNDER   \n",
       "4         5 2022-12-10             CHICAGO BULLS - DALLAS MAVERICKS   \n",
       "\n",
       "       PREDICTED_WINNER  VALUE GOT_IT  HOMETEAM_ID  AWAYTEAM_ID  \n",
       "0            MIAMI HEAT   1.11     NO           16           27  \n",
       "1  LOS ANGELES CLIPPERS   1.53    YES           30           14  \n",
       "2        INDIANA PACERS   1.32     NO           12            3  \n",
       "3   CLEVELAND CAVALIERS   1.36    YES            6           21  \n",
       "4      DALLAS MAVERICKS   2.00     NO            5            7  "
      ]
     },
     "execution_count": 3,
     "metadata": {},
     "output_type": "execute_result"
    }
   ],
   "source": [
    "all_bets_df.head(5)"
   ]
  }
 ],
 "metadata": {
  "kernelspec": {
   "display_name": "Python 3 (ipykernel)",
   "language": "python",
   "name": "python3"
  },
  "language_info": {
   "codemirror_mode": {
    "name": "ipython",
    "version": 3
   },
   "file_extension": ".py",
   "mimetype": "text/x-python",
   "name": "python",
   "nbconvert_exporter": "python",
   "pygments_lexer": "ipython3",
   "version": "3.11.1"
  }
 },
 "nbformat": 4,
 "nbformat_minor": 5
}
